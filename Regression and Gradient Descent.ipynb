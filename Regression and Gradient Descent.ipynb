{
 "cells": [
  {
   "cell_type": "code",
   "execution_count": 1,
   "metadata": {},
   "outputs": [],
   "source": [
    "#Author: Walter Nam\n",
    "import numpy as np\n",
    "from numpy import array\n",
    "import matplotlib.pyplot as plt"
   ]
  },
  {
   "cell_type": "code",
   "execution_count": 2,
   "metadata": {},
   "outputs": [],
   "source": [
    "class Data:\n",
    "    def __init__(self, bias, x1, x2, y):\n",
    "        self.bias = bias\n",
    "        self.x1 = x1\n",
    "        self.x2 = x2\n",
    "        self.y = y\n",
    "        \n",
    "    def polynomial_phi(self, bias, x1, x2):\n",
    "        phi = np.array([\n",
    "            bias, \n",
    "            x1, \n",
    "            x2, \n",
    "            x1*x2,\n",
    "            x1**2, \n",
    "            x2**2]).transpose()\n",
    "        return phi\n",
    "    \n",
    "    def linear_plane_phi(self, bias, x1, x2):\n",
    "        phi = np.array([bias, x1, x2]).transpose()\n",
    "        return phi\n",
    "    \n",
    "    # w = (phi.T * phi)^ -1 * phi.T * y\n",
    "    #polynomial phi is a singular matrix, which is not invertable. Not column independent, so we use right pseudo-inverse\n",
    "    def left_inverse(self, phi, y):\n",
    "        cross_inverse = np.linalg.inv(np.matmul(phi.transpose(), phi))\n",
    "        weights = np.matmul(np.matmul(cross_inverse, phi.transpose()), y)\n",
    "        return weights\n",
    "    \n",
    "    # w = phi.T*(phi * phi.T)^-1* y\n",
    "    def right_inverse(self, phi, y):\n",
    "        cross_inverse = np.linalg.inv(np.matmul(phi, phi.transpose()))\n",
    "        weights = np.matmul(phi.transpose(), np.matmul(cross_inverse, y))\n",
    "        return weights\n",
    "    \n",
    "    def predicted_y(self, bias, x1, x2, weights, create_phi):\n",
    "        feature_vector = create_phi(bias, x1, x2)\n",
    "        predicted = np.dot(feature_vector, weights)\n",
    "        return predicted[0]\n",
    "    \n",
    "    def batch_gd(self, pmax, eta, w0, phi, y, x1, x2, create_phi, MSE_array):\n",
    "        D = (1/len(y))*(np.sum(y**2))\n",
    "        P = (1/len(y))*(np.matmul(y, phi))\n",
    "        R = (1/len(y))*(np.matmul(phi.transpose(), phi))\n",
    "        for i in range(pmax):\n",
    "            w0 += eta*(-1*(np.matmul(w0, R)-P))\n",
    "            MSE = 0.5*D - np.matmul(P, w0.transpose()) + 0.5*(np.matmul(np.matmul(w0, R), w0.transpose()))\n",
    "            MSE_array.append(MSE[0,0])\n",
    "        bias = np.array([1,1,1,1])\n",
    "        feature_vector = create_phi(bias, x1, x2)\n",
    "        bgd_predicted = np.dot(np.array([feature_vector]), w0.transpose())\n",
    "        return bgd_predicted[0]\n",
    "    \n",
    "    def stochastic_gd(self, pmax, eta, w0, phi, y, x1, x2, create_phi, MSE_array):\n",
    "        D = (1/len(y))*(np.sum(y**2))\n",
    "        P = (1/len(y))*(np.matmul(y, phi))\n",
    "        R = (1/len(y))*(np.matmul(phi.transpose(), phi))\n",
    "        k = 0\n",
    "        for i in range(pmax):\n",
    "            if k == len(phi):\n",
    "                k = 0\n",
    "            X_k = phi[k]\n",
    "            d_k = y[k]\n",
    "            s_k = np.matmul(X_k, w0.transpose())\n",
    "            e = (d_k - s_k)\n",
    "            w0 += eta*(e*X_k)\n",
    "            MSE = 0.5*D - np.matmul(P, w0.transpose()) + 0.5*(np.matmul(np.matmul(w0, R), w0.transpose()))\n",
    "            MSE_array.append(MSE[0,0])\n",
    "            k += 1\n",
    "        bias = np.array([1,1,1,1])\n",
    "        feature_vector = create_phi(bias, x1, x2)\n",
    "        sgd_predicted = np.dot(np.array([feature_vector]), w0.transpose())\n",
    "        return sgd_predicted[0]\n",
    "            \n",
    "        \n",
    "    def graph_data(self,iterations, MSE_array, gd_name):\n",
    "        x_range = range(1,iterations + 1)\n",
    "        plt.plot(x_range, MSE_array)\n",
    "        plt.xlabel('# iterations')\n",
    "        plt.ylabel('MSE')\n",
    "        plt.title(''f'{gd_name} MSE vs Pmax = 'f'{iterations}')"
   ]
  },
  {
   "cell_type": "code",
   "execution_count": 3,
   "metadata": {},
   "outputs": [
    {
     "name": "stdout",
     "output_type": "stream",
     "text": [
      "[[1 0 0 0 0 0]\n",
      " [1 1 0 0 1 0]\n",
      " [1 0 1 0 0 1]\n",
      " [1 1 1 1 1 1]]\n",
      "pseudo-inverse y-value:  2.0\n",
      "BGD y-value:  1.9947723494645895\n",
      "SGD y-value:  1.9999441839388932\n"
     ]
    },
    {
     "data": {
      "image/png": "[encoded data removed]",
      "text/plain": [
       "<Figure size 432x288 with 1 Axes>"
      ]
     },
     "metadata": {
      "needs_background": "light"
     },
     "output_type": "display_data"
    }
   ],
   "source": [
    "bias = np.array([1,1,1,1])\n",
    "x1 = np.array([0,1,0,1])\n",
    "x2 = np.array([0,0,1,1])\n",
    "y = np.array([1,0,0,2])\n",
    "data_set = Data(bias,x1, x2, y)\n",
    "phi = data_set.polynomial_phi(bias, x1, x2)\n",
    "print(phi)\n",
    "\n",
    "weights = data_set.right_inverse(phi, y)\n",
    "x1 = 1\n",
    "x2 = 1\n",
    "pred_y = data_set.predicted_y(bias, x1, x2, weights, data_set.polynomial_phi)\n",
    "print(\"pseudo-inverse y-value: \", pred_y)\n",
    "\n",
    "pmax = 100000\n",
    "eta = 0.001\n",
    "w0 = np.array([\n",
    "    [0.1, 0.1, 0.1, 0.1, 0.1, 0.1]\n",
    "])\n",
    "loss_function = []\n",
    "bgd_y = data_set.batch_gd(pmax, eta, w0, phi, y, x1, x2, data_set.polynomial_phi, loss_function)\n",
    "print(\"BGD y-value: \", bgd_y[0][0])\n",
    "data_set.graph_data(pmax, loss_function, \"BGD\")\n",
    "\n",
    "SGD_loss_function = []\n",
    "sgd_y = data_set.stochastic_gd(pmax, eta, w0, phi, y, x1, x2, data_set.polynomial_phi, SGD_loss_function)\n",
    "print(\"SGD y-value: \", sgd_y[0][0])\n",
    "data_set.graph_data(pmax, SGD_loss_function, \"SGD\")"
   ]
  }
 ],
 "metadata": {
  "kernelspec": {
   "display_name": "Python 3",
   "language": "python",
   "name": "python3"
  },
  "language_info": {
   "codemirror_mode": {
    "name": "ipython",
    "version": 3
   },
   "file_extension": ".py",
   "mimetype": "text/x-python",
   "name": "python",
   "nbconvert_exporter": "python",
   "pygments_lexer": "ipython3",
   "version": "3.7.4"
  }
 },
 "nbformat": 4,
 "nbformat_minor": 2
}
